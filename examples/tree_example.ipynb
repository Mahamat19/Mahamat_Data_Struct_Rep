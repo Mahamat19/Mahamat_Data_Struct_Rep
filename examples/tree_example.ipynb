{
 "cells": [
  {
   "cell_type": "code",
   "execution_count": 2,
   "metadata": {},
   "outputs": [],
   "source": [
    "import sys\n",
    "import os\n",
    "\n",
    "sys.path.append(os.path.abspath(\"..\"))\n",
    "from data_structures_Mht.tree import BinaryTree"
   ]
  },
  {
   "cell_type": "code",
   "execution_count": 3,
   "metadata": {},
   "outputs": [
    {
     "name": "stdout",
     "output_type": "stream",
     "text": [
      "Inorder Traversal   : [2, 3, 4, 5, 7]\n",
      "Preorder Traversal  : [5, 3, 2, 4, 7]\n",
      "Postorder Traversal : [2, 4, 3, 7, 5]\n",
      "Search for 4: True\n",
      "Search for 10: False\n",
      "\n",
      "After deleting 3:\n",
      "Inorder Traversal   : [2, 4, 5, 7]\n",
      "Preorder Traversal  : [5, 4, 2, 7]\n",
      "Postorder Traversal : [2, 4, 7, 5]\n"
     ]
    }
   ],
   "source": [
    "binary_t = BinaryTree()\n",
    "\n",
    "# Add nodes\n",
    "binary_t.addNode(5)\n",
    "binary_t.addNode(3)\n",
    "binary_t.addNode(7)\n",
    "binary_t.addNode(2)\n",
    "binary_t.addNode(4)\n",
    "\n",
    "# Display traversals\n",
    "print(\"Inorder Traversal   :\", binary_t.displayInorder())   \n",
    "print(\"Preorder Traversal  :\", binary_t.displayPreorder())  \n",
    "print(\"Postorder Traversal :\", binary_t.displayPostorder()) \n",
    "\n",
    "# Search for a node\n",
    "print(\"Search for 4:\", binary_t.searchNode(4))  \n",
    "print(\"Search for 10:\", binary_t.searchNode(10))  \n",
    "\n",
    "# Delete a node\n",
    "binary_t.deleteNode(3)\n",
    "\n",
    "# Display traversals after deletion\n",
    "print(\"\\nAfter deleting 3:\")\n",
    "print(\"Inorder Traversal   :\", binary_t.displayInorder())   \n",
    "print(\"Preorder Traversal  :\", binary_t.displayPreorder())  \n",
    "print(\"Postorder Traversal :\", binary_t.displayPostorder()) \n"
   ]
  }
 ],
 "metadata": {
  "kernelspec": {
   "display_name": "Python 3",
   "language": "python",
   "name": "python3"
  },
  "language_info": {
   "codemirror_mode": {
    "name": "ipython",
    "version": 3
   },
   "file_extension": ".py",
   "mimetype": "text/x-python",
   "name": "python",
   "nbconvert_exporter": "python",
   "pygments_lexer": "ipython3",
   "version": "3.13.2"
  }
 },
 "nbformat": 4,
 "nbformat_minor": 2
}
