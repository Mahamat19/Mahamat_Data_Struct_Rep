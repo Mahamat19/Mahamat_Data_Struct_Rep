{
 "cells": [
  {
   "cell_type": "code",
   "execution_count": 4,
   "metadata": {},
   "outputs": [],
   "source": [
    "import sys\n",
    "import os\n",
    "\n",
    "sys.path.append(os.path.abspath(\"..\"))\n",
    "from data_structures_Mht.linked_list import LinkedList\n"
   ]
  },
  {
   "cell_type": "code",
   "execution_count": 6,
   "metadata": {},
   "outputs": [
    {
     "name": "stdout",
     "output_type": "stream",
     "text": [
      "1 -> 2 -> 3 -> Middle -> 4 -> 5 -> None\n",
      "Index of 'Middle' : -1\n",
      "The size of the list is : 6\n",
      "Element at index 3 : Middle\n",
      "1 -> 2 -> 3 -> Modified -> 4 -> 5 -> None\n"
     ]
    }
   ],
   "source": [
    "linked_list = LinkedList()\n",
    "linked_list.insertAtBeginning(5)\n",
    "linked_list.insertAtBeginning(4)\n",
    "linked_list.insertAtBeginning(3)\n",
    "linked_list.insertAtBeginning(2)\n",
    "linked_list.insertAtBeginning(1)\n",
    "linked_list.insertAtEnd(\"Fin\")\n",
    "linked_list.insertAfter(\"Middle\", 2)\n",
    "linked_list.deleteItem(6)\n",
    "linked_list.display()\n",
    "\n",
    "# Tests simples\n",
    "print(\"Index of 'Middle' :\", linked_list.search(\"Milieu\"))\n",
    "print(\"The size of the list is :\", linked_list.get_length())\n",
    "print(\"Element at index 3 :\", linked_list.access(3))\n",
    "linked_list.update(3, \"Modified\")\n",
    "linked_list.display()\n"
   ]
  }
 ],
 "metadata": {
  "kernelspec": {
   "display_name": "Python 3",
   "language": "python",
   "name": "python3"
  },
  "language_info": {
   "codemirror_mode": {
    "name": "ipython",
    "version": 3
   },
   "file_extension": ".py",
   "mimetype": "text/x-python",
   "name": "python",
   "nbconvert_exporter": "python",
   "pygments_lexer": "ipython3",
   "version": "3.13.2"
  }
 },
 "nbformat": 4,
 "nbformat_minor": 2
}
