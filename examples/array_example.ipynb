{
 "cells": [
  {
   "cell_type": "code",
   "execution_count": 1,
   "metadata": {},
   "outputs": [],
   "source": [
    "import sys\n",
    "import os\n",
    "\n",
    "sys.path.append(os.path.abspath(\"..\"))\n",
    "from data_structures_Mht.array import Array\n"
   ]
  },
  {
   "cell_type": "code",
   "execution_count": null,
   "metadata": {},
   "outputs": [],
   "source": [
    "from data_structures_Mht.array import Array"
   ]
  },
  {
   "cell_type": "code",
   "execution_count": 2,
   "metadata": {},
   "outputs": [
    {
     "name": "stdout",
     "output_type": "stream",
     "text": [
      "My Array after adding or appending elements: [1, 2, 3, 4, 5, 9]\n",
      "The last element is: 9\n",
      "The element at index 3 is: 4\n",
      "Popped element: 9\n",
      "My Array after pop: [1, 2, 3, 4, 5]\n",
      "Is my array empty bro? False\n"
     ]
    }
   ],
   "source": [
    "arr = Array()\n",
    "arr.append(1)\n",
    "arr.append(2)\n",
    "arr.append(3)\n",
    "arr.append(4)\n",
    "arr.append(5)\n",
    "arr.append(9)\n",
    "print(\"My Array after adding or appending elements:\", arr)\n",
    "\n",
    "print(\"The last element is:\", arr.last())\n",
    "print(\"The element at index 3 is:\", arr.get(3))\n",
    "\n",
    "print(\"Popped element:\", arr.pop())\n",
    "print(\"My Array after pop:\", arr)\n",
    "\n",
    "print(\"Is my array empty bro?\", arr.is_empty())"
   ]
  }
 ],
 "metadata": {
  "kernelspec": {
   "display_name": "Python 3",
   "language": "python",
   "name": "python3"
  },
  "language_info": {
   "codemirror_mode": {
    "name": "ipython",
    "version": 3
   },
   "file_extension": ".py",
   "mimetype": "text/x-python",
   "name": "python",
   "nbconvert_exporter": "python",
   "pygments_lexer": "ipython3",
   "version": "3.13.2"
  }
 },
 "nbformat": 4,
 "nbformat_minor": 2
}
