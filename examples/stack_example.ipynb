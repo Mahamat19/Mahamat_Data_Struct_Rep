{
 "cells": [
  {
   "cell_type": "code",
   "execution_count": 8,
   "metadata": {},
   "outputs": [],
   "source": [
    "import sys\n",
    "import os\n",
    "\n",
    "sys.path.append(os.path.abspath(\"..\"))\n",
    "from data_structures_Mht.stack import Stack\n"
   ]
  },
  {
   "cell_type": "code",
   "execution_count": 2,
   "metadata": {},
   "outputs": [
    {
     "name": "stdout",
     "output_type": "stream",
     "text": [
      "[1, 2, 3, 5, 8]\n",
      "8\n",
      "8\n",
      "5\n",
      "3\n",
      "2\n",
      "1\n",
      "It is empty my friend, do not insist\n",
      "None\n",
      "True\n"
     ]
    }
   ],
   "source": [
    "n = Stack([1,2,3])\n",
    "n.push(5)\n",
    "n.push(8)\n",
    "n.display_stack()      # [1,2,3,5,8]\n",
    "print(n.peek())        # 8\n",
    "print(n.pop())         # 8\n",
    "print(n.pop())         # 5\n",
    "print(n.pop())         # 3\n",
    "print(n.pop())         # 2\n",
    "print(n.pop())         # 1\n",
    "print(n.pop())         # \"It is empty my friend, do not insist\"\n",
    "print(n.is_Empty())    # True"
   ]
  },
  {
   "cell_type": "code",
   "execution_count": null,
   "metadata": {},
   "outputs": [],
   "source": []
  },
  {
   "cell_type": "code",
   "execution_count": null,
   "metadata": {},
   "outputs": [
    {
     "name": "stdout",
     "output_type": "stream",
     "text": [
      "My Array after adding or appending elements: [1, 2, 3, 4, 5, 9]\n",
      "The last element is: 9\n",
      "The element at index 3 is: 4\n",
      "Popped element: 9\n",
      "My Array after pop: [1, 2, 3, 4, 5]\n",
      "Is my array empty bro? False\n"
     ]
    }
   ],
   "source": []
  },
  {
   "cell_type": "code",
   "execution_count": null,
   "metadata": {},
   "outputs": [],
   "source": []
  }
 ],
 "metadata": {
  "kernelspec": {
   "display_name": "Python 3",
   "language": "python",
   "name": "python3"
  },
  "language_info": {
   "codemirror_mode": {
    "name": "ipython",
    "version": 3
   },
   "file_extension": ".py",
   "mimetype": "text/x-python",
   "name": "python",
   "nbconvert_exporter": "python",
   "pygments_lexer": "ipython3",
   "version": "3.13.2"
  }
 },
 "nbformat": 4,
 "nbformat_minor": 2
}
