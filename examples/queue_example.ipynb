{
 "cells": [
  {
   "cell_type": "code",
   "execution_count": 1,
   "metadata": {},
   "outputs": [],
   "source": [
    "import sys\n",
    "import os\n",
    "\n",
    "sys.path.append(os.path.abspath(\"..\"))\n",
    "from data_structures_Mht.queue import Queue"
   ]
  },
  {
   "cell_type": "code",
   "execution_count": 3,
   "metadata": {},
   "outputs": [
    {
     "name": "stdout",
     "output_type": "stream",
     "text": [
      "[1, 2, 3, 1, 2, 3, 2, 4, 5, 6]\n",
      "Dequeued (normal): 1\n",
      "Peek (front): 2\n",
      "Rear: 6\n",
      "Is empty? False\n",
      "Dequeued (smallest): 1\n",
      "Dequeued (smallest): 2\n",
      "[3, 2, 3, 2, 4, 5, 6]\n"
     ]
    }
   ],
   "source": [
    "my_queue = Queue([1, 2, 3])\n",
    "my_queue.enqueue(1)\n",
    "my_queue.enqueue(2)\n",
    "my_queue.enqueue(3)\n",
    "my_queue.enqueue(2)\n",
    "my_queue.enqueue(4)\n",
    "my_queue.enqueue(5)\n",
    "my_queue.enqueue(6)\n",
    "\n",
    "my_queue.display_queue()\n",
    "\n",
    "print(\"Dequeued (normal):\", my_queue.dequeue())\n",
    "print(\"Peek (front):\", my_queue.peek())\n",
    "print(\"Rear:\", my_queue.rear())\n",
    "print(\"Is empty?\", my_queue.is_empty())\n",
    "\n",
    "print(\"Dequeued (smallest):\", my_queue.dequeue_asc())\n",
    "print(\"Dequeued (smallest):\", my_queue.dequeue_asc())\n",
    "\n",
    "my_queue.display_queue()\n"
   ]
  }
 ],
 "metadata": {
  "kernelspec": {
   "display_name": "Python 3",
   "language": "python",
   "name": "python3"
  },
  "language_info": {
   "codemirror_mode": {
    "name": "ipython",
    "version": 3
   },
   "file_extension": ".py",
   "mimetype": "text/x-python",
   "name": "python",
   "nbconvert_exporter": "python",
   "pygments_lexer": "ipython3",
   "version": "3.13.2"
  }
 },
 "nbformat": 4,
 "nbformat_minor": 2
}
